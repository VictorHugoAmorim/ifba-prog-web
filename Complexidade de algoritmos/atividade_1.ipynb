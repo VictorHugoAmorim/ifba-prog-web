{
 "cells": [
  {
   "cell_type": "code",
   "execution_count": 2,
   "metadata": {},
   "outputs": [
    {
     "name": "stdout",
     "output_type": "stream",
     "text": [
      "Urna 1: Candidato A recebeu 56 votos; Candidato B recebeu 44 votos.\n",
      "Urna 2: Candidato A recebeu 54 votos; Candidato B recebeu 46 votos.\n",
      "Urna 3: Candidato A recebeu 53 votos; Candidato B recebeu 47 votos.\n",
      "Urna 4: Candidato A recebeu 42 votos; Candidato B recebeu 58 votos.\n",
      "Urna 5: Candidato A recebeu 39 votos; Candidato B recebeu 61 votos.\n",
      "Urna 6: Candidato A recebeu 57 votos; Candidato B recebeu 43 votos.\n",
      "Urna 7: Candidato A recebeu 53 votos; Candidato B recebeu 47 votos.\n",
      "Urna 8: Candidato A recebeu 57 votos; Candidato B recebeu 43 votos.\n",
      "Urna 9: Candidato A recebeu 57 votos; Candidato B recebeu 43 votos.\n",
      "Urna 10: Candidato A recebeu 39 votos; Candidato B recebeu 61 votos.\n",
      "Total de votos: Candidato A recebeu 507 votos; Candidato B recebeu 493 votos.\n"
     ]
    }
   ],
   "source": [
    "import random\n",
    "\n",
    "# Define o número de urnas eletrônicas e de votos em cada urna\n",
    "num_urnas = 10\n",
    "num_votos = 100\n",
    "\n",
    "# Inicializa as variáveis de contagem de votos para cada candidato\n",
    "total_votos_a = 0\n",
    "total_votos_b = 0\n",
    "\n",
    "# Loop através das urnas eletrônicas\n",
    "for i in range(num_urnas):\n",
    "    # Inicializa as variáveis de contagem de votos para cada urna\n",
    "    votos_a = 0\n",
    "    votos_b = 0\n",
    "    \n",
    "    # Distribui aleatoriamente os votos na urna\n",
    "    for j in range(num_votos):\n",
    "        voto = random.choice(['A', 'B'])\n",
    "        if voto == 'A':\n",
    "            votos_a += 1\n",
    "        else:\n",
    "            votos_b += 1\n",
    "    \n",
    "    # Adiciona os votos da urna ao total de votos para cada candidato\n",
    "    total_votos_a += votos_a\n",
    "    total_votos_b += votos_b\n",
    "    \n",
    "    # Imprime o número de votos para cada candidato na urna atual\n",
    "    print(f\"Urna {i+1}: Candidato A recebeu {votos_a} votos; Candidato B recebeu {votos_b} votos.\")\n",
    "    \n",
    "# Imprime o total de votos para cada candidato em todas as urnas\n",
    "print(f\"Total de votos: Candidato A recebeu {total_votos_a} votos; Candidato B recebeu {total_votos_b} votos.\")\n"
   ]
  },
  {
   "attachments": {},
   "cell_type": "markdown",
   "metadata": {},
   "source": [
    "# Com Critérios"
   ]
  },
  {
   "attachments": {},
   "cell_type": "markdown",
   "metadata": {},
   "source": [
    "(d.1) imprimir a lista das pessoas ou dos objetos sendo monitorados;\n",
    "\n",
    "(d.2) imprimir a lista das leituras por cada pessoa ou objeto monitorado. ATENÇÃO: deve ficar claro quais leituras\n",
    "pertencem a cada um;\n",
    "\n",
    "(d.3) ordenação crescente dos dados considerando os valores lidos dos sensores para cada coisa monitorada;\n",
    "\n",
    "(d.4) deve ser adicionada, a critério do desenvolvedor, uma funcionalidade extra, relativa ao mini-mundo\n",
    "escolhido, cuja complexidade seja ou O(N^3) ou O(2^N) ou O(N!)."
   ]
  },
  {
   "cell_type": "code",
   "execution_count": 4,
   "metadata": {},
   "outputs": [
    {
     "name": "stdout",
     "output_type": "stream",
     "text": [
      "Urna\tVotos A\tVotos B\n",
      "1\t49\t51\n",
      "2\t55\t45\n",
      "3\t56\t44\n",
      "4\t50\t50\n",
      "5\t44\t56\n",
      "6\t52\t48\n",
      "7\t48\t52\n",
      "8\t41\t59\n",
      "9\t55\t45\n",
      "10\t50\t50\n",
      "\n",
      "Urna\tVotos A\tVotos B\n",
      "8\t41\t59\n",
      "5\t44\t56\n",
      "7\t48\t52\n",
      "1\t49\t51\n",
      "4\t50\t50\n",
      "10\t50\t50\n",
      "6\t52\t48\n",
      "2\t55\t45\n",
      "9\t55\t45\n",
      "3\t56\t44\n",
      "\n",
      "Total de votos: Candidato A recebeu 500 votos; Candidato B recebeu 500 votos.\n",
      "\n",
      "Número total de permutações: 3628800\n"
     ]
    }
   ],
   "source": [
    "import random\n",
    "\n",
    "def main():\n",
    "    # Define o número de urnas eletrônicas e de votos em cada urna\n",
    "    num_urnas = 10\n",
    "    num_votos = 100\n",
    "\n",
    "    # Inicializa as variáveis de contagem de votos para cada candidato\n",
    "    total_votos_a = 0\n",
    "    total_votos_b = 0\n",
    "\n",
    "    # Cria uma lista para armazenar as leituras de cada urna monitorada\n",
    "    leituras = []\n",
    "\n",
    "    # Loop através das urnas eletrônicas\n",
    "    for i in range(num_urnas):\n",
    "        # Inicializa as variáveis de contagem de votos para cada urna\n",
    "        votos_a = 0\n",
    "        votos_b = 0\n",
    "\n",
    "        # Distribui aleatoriamente os votos na urna\n",
    "        for j in range(num_votos):\n",
    "            voto = random.choice(['A', 'B'])\n",
    "            if voto == 'A':\n",
    "                votos_a += 1\n",
    "            else:\n",
    "                votos_b += 1\n",
    "\n",
    "        # Adiciona os votos da urna ao total de votos para cada candidato\n",
    "        total_votos_a += votos_a\n",
    "        total_votos_b += votos_b\n",
    "\n",
    "        # Adiciona as leituras da urna à lista de leituras\n",
    "        leituras.append((i+1, votos_a, votos_b))\n",
    "\n",
    "    # Imprime a lista das urnas monitoradas\n",
    "    print(\"Urna\\tVotos A\\tVotos B\")\n",
    "    for urna in leituras:\n",
    "        print(f\"{urna[0]}\\t{urna[1]}\\t{urna[2]}\")\n",
    "\n",
    "    # Ordena a lista de leituras por votos do candidato A em ordem crescente\n",
    "    leituras_ord = sorted(leituras, key=lambda x: x[1])\n",
    "\n",
    "    # Imprime a lista ordenada de leituras\n",
    "    print(\"\\nUrna\\tVotos A\\tVotos B\")\n",
    "    for urna in leituras_ord:\n",
    "        print(f\"{urna[0]}\\t{urna[1]}\\t{urna[2]}\")\n",
    "\n",
    "    # Imprime o total de votos para cada candidato em todas as urnas\n",
    "    print(f\"\\nTotal de votos: Candidato A recebeu {total_votos_a} votos; Candidato B recebeu {total_votos_b} votos.\")\n",
    "\n",
    "    # Executa uma funcionalidade extra que tem complexidade O(N!)\n",
    "    func_extra(num_urnas)\n",
    "\n",
    "def func_extra(num_urnas):\n",
    "    # Gera todas as permutações possíveis das urnas\n",
    "    urnas = list(range(1, num_urnas+1))\n",
    "    perms = permute(urnas)\n",
    "\n",
    "    # Imprime o número total de permutações geradas\n",
    "    print(f\"\\nNúmero total de permutações: {len(perms)}\")\n",
    "\n",
    "def permute(lst):\n",
    "    if len(lst) == 0:\n",
    "        return []\n",
    "    if len(lst) == 1:\n",
    "        return [lst]\n",
    "    l = []\n",
    "    for i in range(len(lst)):\n",
    "        m = lst[i]\n",
    "        rem_lst = lst[:i] + lst[i+1:]\n",
    "        for p in permute(rem_lst):\n",
    "            l.append([m] + p)\n",
    "    return l\n",
    "\n",
    "if __name__ == \"__main__\":\n",
    "    main()\n"
   ]
  },
  {
   "cell_type": "markdown",
   "metadata": {},
   "source": [
    "Primeiramente, no método main(), foi definido o número de urnas eletrônicas e de votos em cada urna. Em seguida, foram inicializadas as variáveis de contagem de votos para cada candidato e criada uma lista vazia para armazenar as leituras de cada urna monitorada.\n",
    "\n",
    "A seguir, foi feito um loop através das urnas eletrônicas. Para cada urna, foram inicializadas as variáveis de contagem de votos para cada urna e distribuídos aleatoriamente os votos na urna, utilizando a função random.choice() para escolher aleatoriamente entre os candidatos A e B. Os votos da urna foram então adicionados ao total de votos para cada candidato e as leituras da urna foram adicionadas à lista de leituras.\n",
    "\n",
    "Depois disso, a lista de leituras foi impressa em ordem crescente de votos para o candidato A, utilizando a função sorted() com a opção key para ordenar a lista com base no segundo elemento de cada tupla. Em seguida, o total de votos para cada candidato em todas as urnas foi impresso.\n",
    "\n",
    "Por fim, foi executada uma funcionalidade extra com complexidade O(N!), que consiste em gerar todas as permutações possíveis das urnas e imprimir o número total de permutações geradas.\n",
    "\n",
    "A funcionalidade extra foi implementada utilizando a técnica de recursão. A função permute() recebe uma lista e retorna todas as permutações possíveis dessa lista. Se a lista estiver vazia, a função retorna uma lista vazia. Se a lista tiver apenas um elemento, a função retorna uma lista contendo esse elemento. Caso contrário, a função itera sobre cada elemento da lista, escolhendo-o como o primeiro elemento da permutação e recursivamente chamando a função permute() com a lista restante. Em seguida, para cada permutação retornada pela chamada recursiva, a função adiciona o elemento escolhido como primeiro elemento e adiciona a permutação resultante à lista de permutações. No final, a função retorna a lista de permutações.m"
   ]
  },
  {
   "attachments": {},
   "cell_type": "markdown",
   "metadata": {},
   "source": [
    "# É possível que o algoritmo gere alguma situação de necessidade de processamento via brute force (força bruta)? "
   ]
  },
  {
   "attachments": {},
   "cell_type": "markdown",
   "metadata": {},
   "source": [
    "Não, o código acima não gera nenhuma situação de necessidade de processamento via brute force (força bruta).\n",
    "\n",
    "O loop que distribui os votos aleatoriamente nas urnas tem complexidade O(N), onde N é o número de votos em cada urna. O loop que calcula o total de votos para cada candidato tem complexidade O(M), onde M é o número de urnas eletrônicas. Portanto, o tempo total de processamento do algoritmo é O(NM).\n",
    "\n",
    "A funcionalidade extra que gera todas as permutações possíveis das urnas tem complexidade O(M!), que cresce muito rapidamente com o aumento do número de urnas eletrônicas. No entanto, essa funcionalidade não é necessária para a execução do algoritmo principal e é executada apenas como uma funcionalidade extra opcional. Portanto, o código acima não gera nenhuma situação de necessidade de processamento via brute force (força bruta)."
   ]
  }
 ],
 "metadata": {
  "kernelspec": {
   "display_name": "Python 3",
   "language": "python",
   "name": "python3"
  },
  "language_info": {
   "codemirror_mode": {
    "name": "ipython",
    "version": 3
   },
   "file_extension": ".py",
   "mimetype": "text/x-python",
   "name": "python",
   "nbconvert_exporter": "python",
   "pygments_lexer": "ipython3",
   "version": "3.10.11"
  },
  "orig_nbformat": 4
 },
 "nbformat": 4,
 "nbformat_minor": 2
}
