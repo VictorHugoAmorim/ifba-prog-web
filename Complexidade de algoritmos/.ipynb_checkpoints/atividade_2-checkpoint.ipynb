{
 "cells": [
  {
   "cell_type": "markdown",
   "id": "0b9484c3",
   "metadata": {},
   "source": [
    "# Avaliação 2"
   ]
  },
  {
   "cell_type": "markdown",
   "id": "31631400",
   "metadata": {},
   "source": [
    "suponha que você queira calcular todas as permutações possíveis de uma lista de tamanho N. A complexidade O(N!) pode ser alcançada por meio do seguinte algoritmo recursivo:\n",
    "    Neste exemplo, o algoritmo percorre todas as permutações possíveis da lista de entrada e imprime cada permutação na saída. A complexidade do algoritmo é O(N!), pois existem N! permutações possíveis de uma lista de tamanho N."
   ]
  },
  {
   "cell_type": "code",
   "execution_count": 3,
   "id": "2f68047b",
   "metadata": {},
   "outputs": [
    {
     "name": "stdout",
     "output_type": "stream",
     "text": [
      "ABC\n",
      "ACB\n",
      "BAC\n",
      "BCA\n",
      "CBA\n",
      "CAB\n"
     ]
    }
   ],
   "source": [
    "def permute(data, i, length):\n",
    "    if i == length:\n",
    "        print(''.join(data))\n",
    "    else:\n",
    "        for j in range(i, length):\n",
    "            # Swap\n",
    "            data[i], data[j] = data[j], data[i]\n",
    "            permute(data, i+1, length)\n",
    "            data[i], data[j] = data[j], data[i]\n",
    "\n",
    "# Exemplo de uso\n",
    "data = list('ABC')\n",
    "n = len(data)\n",
    "permute(data, 0, n)"
   ]
  },
  {
   "cell_type": "code",
   "execution_count": 10,
   "id": "913c5f72",
   "metadata": {},
   "outputs": [
    {
     "name": "stdout",
     "output_type": "stream",
     "text": [
      "Urna 0: 8 votos\n",
      "Urna 1: 10 votos\n",
      "Urna 2: 7 votos\n",
      "Urna 3: 13 votos\n",
      "Urna 4: 11 votos\n",
      "Urna 5: 11 votos\n",
      "Urna 6: 10 votos\n",
      "Urna 7: 10 votos\n",
      "Urna 8: 8 votos\n",
      "Urna 9: 12 votos\n",
      "Processando dados de urnas em paralelo...\n",
      "Dados processados!\n",
      "Urna 0: 8 votos\n",
      "Urna 1: 10 votos\n",
      "Urna 2: 7 votos\n",
      "Urna 3: 13 votos\n",
      "Urna 4: 11 votos\n",
      "Urna 5: 11 votos\n",
      "Urna 6: 10 votos\n",
      "Urna 7: 10 votos\n",
      "Urna 8: 8 votos\n",
      "Urna 9: 12 votos\n",
      "Resultado da função extra: 3352564\n"
     ]
    }
   ],
   "source": [
    "import random\n",
    "import threading\n",
    "\n",
    "NUM_URNAS = 10\n",
    "NUM_VOTOS = 100\n",
    "\n",
    "# Definição da classe UrnaEletronica, que representa cada urna monitorada\n",
    "class UrnaEletronica:\n",
    "    def __init__(self, ident):\n",
    "        # Cada urna recebe uma identificação única\n",
    "        self.ident = ident\n",
    "        # Inicialmente, cada urna tem 0 votos\n",
    "        self.votos = 0\n",
    "        \n",
    "    def adicionar_voto(self):\n",
    "        # Método que adiciona um voto na urna\n",
    "        self.votos += 1\n",
    "        \n",
    "    def __str__(self):\n",
    "        # Método que define a representação em string da urna\n",
    "        return f\"Urna {self.ident}: {self.votos} votos\"\n",
    "\n",
    "# Função que gera os dados de votação para cada urna eletrônica\n",
    "def gerar_dados_urnas():\n",
    "    # Cria uma lista de urnas, com NUM_URNAS elementos\n",
    "    urnas = [UrnaEletronica(i) for i in range(NUM_URNAS)]\n",
    "    # Adiciona NUM_VOTOS votos, de forma aleatória, em urnas diferentes\n",
    "    for _ in range(NUM_VOTOS):\n",
    "        urna = random.choice(urnas)\n",
    "        urna.adicionar_voto()\n",
    "    # Retorna a lista de urnas, com o número de votos de cada urna\n",
    "    return urnas\n",
    "\n",
    "# Função que processa os dados de votação para cada urna eletrônica, em paralelo\n",
    "def processar_dados_urnas_paralelo():\n",
    "    # Cria uma lista de threads, com NUM_URNAS elementos\n",
    "    threads = [threading.Thread(target=gerar_dados_urnas) for _ in range(NUM_URNAS)]\n",
    "    # Inicia todas as threads\n",
    "    for thread in threads:\n",
    "        thread.start()\n",
    "    # Aguarda todas as threads terminarem a execução\n",
    "    for thread in threads:\n",
    "        thread.join()\n",
    "\n",
    "# Função extra com complexidade O(N!)\n",
    "def funcao_extra(urnas):\n",
    "    # Exemplo de função com complexidade O(N!)\n",
    "    if len(urnas) > 10:\n",
    "        raise ValueError(\"Esta função só funciona para até 10 urnas!\")\n",
    "    valores = list(range(len(urnas)))\n",
    "    resultado = 0\n",
    "    for i in reversed(range(len(valores))):\n",
    "        fatorial = 1\n",
    "        for j in range(1, len(valores) - i):\n",
    "            fatorial *= j\n",
    "        resultado += urnas[valores[i]].votos * fatorial\n",
    "        valores_copy = valores.copy()\n",
    "        valores_copy.pop(i)\n",
    "    return resultado\n",
    "\n",
    "# Função principal, que executa todas as funcionalidades\n",
    "def main():\n",
    "    # Gera os dados das urnas eletrônicas\n",
    "    dados_urnas = gerar_dados_urnas()\n",
    "    # Imprime os dados gerados\n",
    "    for urna in dados_urnas:\n",
    "        print(urna)\n",
    "    # Processa os dados em paralelo\n",
    "    print(\"Processando dados de urnas em paralelo...\")\n",
    "    processar_dados_urnas_paralelo()\n",
    "    print(\"Dados processados!\")\n",
    "    # Imprime os dados atualizados\n",
    "    for urna in dados_urnas:\n",
    "        print(urna)\n",
    "    # Executa a função extra e imprime o resultado\n",
    "    print(f\"Resultado da função extra: {funcao_extra(dados_urnas)}\")\n",
    "\n",
    "if __name__ == '__main__':\n",
    "    main()\n"
   ]
  },
  {
   "cell_type": "markdown",
   "id": "8c3914e9",
   "metadata": {},
   "source": [
    "No cenário 1, onde todo o processamento é feito no programa principal, a complexidade da solução de sensoriamento aumenta, porque todas as tarefas de processamento devem ser gerenciadas e executadas sequencialmente pelo programa principal. Isso pode levar a gargalos de desempenho, atrasos no processamento e até mesmo falhas na execução do programa.\n",
    "\n",
    "Já no cenário 2, onde o processamento é distribuído para Threads ou pontos de processamento paralelo, a complexidade da solução de sensoriamento diminui, porque as tarefas de processamento são divididas em unidades menores e executadas simultaneamente em diferentes Threads ou pontos de processamento. Isso pode aumentar a eficiência do processamento e reduzir o tempo de resposta do programa.\n",
    "\n",
    "No entanto, o cenário 2 também apresenta algumas desvantagens, como a necessidade de gerenciamento de concorrência e sincronização entre as diferentes Threads ou pontos de processamento paralelo, o que pode aumentar a complexidade do código e levar a problemas de sincronização e concorrência. Além disso, o aumento do número de Threads ou pontos de processamento pode levar a um aumento no consumo de recursos do sistema, como memória e processamento.\n",
    "\n",
    "Já no cenário 1, a principal vantagem é a simplicidade, já que todas as tarefas de processamento são gerenciadas em um único local, sem a necessidade de gerenciamento de concorrência e sincronização. No entanto, a desvantagem é a menor eficiência e desempenho em relação ao cenário 2, especialmente para grandes conjuntos de dados."
   ]
  },
  {
   "cell_type": "code",
   "execution_count": null,
   "id": "91e2f54d",
   "metadata": {},
   "outputs": [],
   "source": []
  }
 ],
 "metadata": {
  "kernelspec": {
   "display_name": "Python 3 (ipykernel)",
   "language": "python",
   "name": "python3"
  },
  "language_info": {
   "codemirror_mode": {
    "name": "ipython",
    "version": 3
   },
   "file_extension": ".py",
   "mimetype": "text/x-python",
   "name": "python",
   "nbconvert_exporter": "python",
   "pygments_lexer": "ipython3",
   "version": "3.9.13"
  }
 },
 "nbformat": 4,
 "nbformat_minor": 5
}
