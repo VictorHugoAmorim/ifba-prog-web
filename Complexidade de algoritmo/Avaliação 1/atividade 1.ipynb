{
 "cells": [
  {
   "cell_type": "code",
   "execution_count": 1,
   "id": "b07ac249",
   "metadata": {},
   "outputs": [
    {
     "name": "stdout",
     "output_type": "stream",
     "text": [
      "Urna\tVotos A\tVotos B\n",
      "1\t51\t49\n",
      "2\t52\t48\n",
      "3\t54\t46\n",
      "4\t50\t50\n",
      "5\t50\t50\n",
      "6\t44\t56\n",
      "7\t45\t55\n",
      "8\t39\t61\n",
      "9\t46\t54\n",
      "10\t49\t51\n",
      "\n",
      "Urna\tVotos A\tVotos B\n",
      "8\t39\t61\n",
      "6\t44\t56\n",
      "7\t45\t55\n",
      "9\t46\t54\n",
      "10\t49\t51\n",
      "4\t50\t50\n",
      "5\t50\t50\n",
      "1\t51\t49\n",
      "2\t52\t48\n",
      "3\t54\t46\n",
      "\n",
      "Total de votos: Candidato A recebeu 480 votos; Candidato B recebeu 520 votos.\n",
      "\n",
      "Número total de permutações: 3628800\n"
     ]
    }
   ],
   "source": [
    "def main():\n",
    "    # Define o número de urnas eletrônicas e de votos em cada urna\n",
    "    num_urnas = 10\n",
    "    num_votos = 100\n",
    "\n",
    "    # Inicializa as variáveis de contagem de votos para cada candidato\n",
    "    total_votos_a = 0\n",
    "    total_votos_b = 0\n",
    "\n",
    "    # Cria uma lista para armazenar as leituras de cada urna monitorada\n",
    "    leituras = []\n",
    "\n",
    "    # Função para gerar números aleatórios entre 0 e 1\n",
    "    def random_generator():\n",
    "        seed = 1\n",
    "        while True:\n",
    "            seed = (1103515245 * seed + 12345) % (2**31)\n",
    "            yield seed / (2**31)\n",
    "\n",
    "    random_gen = random_generator()\n",
    "\n",
    "    # Loop através das urnas eletrônicas\n",
    "    for i in range(num_urnas):\n",
    "        # Inicializa as variáveis de contagem de votos para cada urna\n",
    "        votos_a = 0\n",
    "        votos_b = 0\n",
    "\n",
    "        # Distribui aleatoriamente os votos na urna\n",
    "        for j in range(num_votos):\n",
    "            random_num = next(random_gen)\n",
    "            if random_num < 0.5:\n",
    "                votos_a += 1\n",
    "            else:\n",
    "                votos_b += 1\n",
    "\n",
    "        # Adiciona os votos da urna ao total de votos para cada candidato\n",
    "        total_votos_a += votos_a\n",
    "        total_votos_b += votos_b\n",
    "\n",
    "        # Adiciona as leituras da urna à lista de leituras\n",
    "        leituras.append((i+1, votos_a, votos_b))\n",
    "\n",
    "    # Imprime a lista das urnas monitoradas\n",
    "    print(\"Urna\\tVotos A\\tVotos B\")\n",
    "    for urna in leituras:\n",
    "        print(f\"{urna[0]}\\t{urna[1]}\\t{urna[2]}\")\n",
    "\n",
    "    # Ordena a lista de leituras por votos do candidato A em ordem crescente\n",
    "    leituras_ord = sorted(leituras, key=lambda x: x[1])\n",
    "\n",
    "    # Imprime a lista ordenada de leituras\n",
    "    print(\"\\nUrna\\tVotos A\\tVotos B\")\n",
    "    for urna in leituras_ord:\n",
    "        print(f\"{urna[0]}\\t{urna[1]}\\t{urna[2]}\")\n",
    "\n",
    "    # Imprime o total de votos para cada candidato em todas as urnas\n",
    "    print(f\"\\nTotal de votos: Candidato A recebeu {total_votos_a} votos; Candidato B recebeu {total_votos_b} votos.\")\n",
    "\n",
    "    # Executa uma funcionalidade extra que tem complexidade O(N!)\n",
    "    func_extra(num_urnas)\n",
    "\n",
    "def func_extra(num_urnas):\n",
    "    # Gera todas as permutações possíveis das urnas\n",
    "    urnas = list(range(1, num_urnas+1))\n",
    "    perms = permute(urnas)\n",
    "\n",
    "    # Imprime o número total de permutações geradas\n",
    "    print(f\"\\nNúmero total de permutações: {len(perms)}\")\n",
    "\n",
    "def permute(lst):\n",
    "    if len(lst) == 0:\n",
    "        return []\n",
    "    if len(lst) == 1:\n",
    "        return [lst]\n",
    "    l = []\n",
    "    for i in range(len(lst)):\n",
    "        m = lst[i]\n",
    "        rem_lst = lst[:i] + lst[i+1:]\n",
    "        for p in permute(rem_lst):\n",
    "            l.append([m] + p)\n",
    "    return l\n",
    "\n",
    "if __name__ == \"__main__\":\n",
    "    main()\n"
   ]
  },
  {
   "cell_type": "markdown",
   "id": "bfc628de",
   "metadata": {},
   "source": [
    "# Comentários"
   ]
  },
  {
   "cell_type": "markdown",
   "id": "ce8e3702",
   "metadata": {},
   "source": [
    "A funcionalidade extra foi implementada utilizando a técnica de recursão. A função permute() recebe uma lista e retorna todas as permutações possíveis dessa lista. Se a lista estiver vazia, a função retorna uma lista vazia. Se a lista tiver apenas um elemento, a função retorna uma lista contendo esse elemento. Caso contrário, a função itera sobre cada elemento da lista, escolhendo-o como o primeiro elemento da permutação e recursivamente chamando a função permute() com a lista restante. Em seguida, para cada permutação retornada pela chamada recursiva, a função adiciona o elemento escolhido como primeiro elemento e adiciona a permutação resultante à lista de permutações. No final, a função retorna a lista de permutações."
   ]
  },
  {
   "cell_type": "markdown",
   "id": "34bcbb3e",
   "metadata": {},
   "source": [
    "#### É possível que o algoritmo gere alguma situação de necessidade de processamento via brute force (força bruta)?"
   ]
  },
  {
   "cell_type": "markdown",
   "id": "df6d3d44",
   "metadata": {},
   "source": [
    "Sim, o algoritmo apresenta uma funcionalidade extra que envolve a geração de todas as permutações possíveis das urnas. A função func_extra(num_urnas) utiliza recursão para gerar essas permutações. No entanto, a complexidade dessa funcionalidade é O(N!), onde N é o número de urnas.\n",
    "\n",
    "A complexidade fatorial O(N!) cresce muito rapidamente à medida que N aumenta. Isso significa que o tempo de execução necessário para gerar todas as permutações aumenta exponencialmente com o número de urnas. Portanto, se o número de urnas for grande, o algoritmo pode exigir uma quantidade significativa de processamento, tornando-se impraticável para valores elevados de N.\n",
    "\n",
    "A força bruta é uma abordagem que consiste em testar todas as possíveis combinações ou permutações de um problema para encontrar uma solução. No caso da geração de permutações, a abordagem de força bruta envolve testar todas as combinações possíveis, o que pode ser ineficiente para entradas grandes."
   ]
  }
 ],
 "metadata": {
  "kernelspec": {
   "display_name": "Python 3 (ipykernel)",
   "language": "python",
   "name": "python3"
  },
  "language_info": {
   "codemirror_mode": {
    "name": "ipython",
    "version": 3
   },
   "file_extension": ".py",
   "mimetype": "text/x-python",
   "name": "python",
   "nbconvert_exporter": "python",
   "pygments_lexer": "ipython3",
   "version": "3.9.13"
  }
 },
 "nbformat": 4,
 "nbformat_minor": 5
}
